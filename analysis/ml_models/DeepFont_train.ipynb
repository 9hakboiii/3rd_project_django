{
  "cells": [
    {
      "cell_type": "code",
      "execution_count": null,
      "metadata": {
        "id": "hUkBRdY8ndhZ",
        "scrolled": true
      },
      "outputs": [],
      "source": [
        "from matplotlib.pyplot import imshow\n",
        "import matplotlib.cm as cm\n",
        "import matplotlib.pylab as plt\n",
        "from tensorflow.keras.preprocessing.image import ImageDataGenerator\n",
        "import numpy as np\n",
        "import PIL\n",
        "from PIL import ImageFilter\n",
        "import cv2\n",
        "import itertools\n",
        "import random\n",
        "import tensorflow as tf\n",
        "import imutils\n",
        "from imutils import paths\n",
        "import os\n",
        "from tensorflow.keras import optimizers\n",
        "from tensorflow.keras.preprocessing.image import img_to_array\n",
        "from sklearn.model_selection import train_test_split\n",
        "from tensorflow.keras.utils import to_categorical\n",
        "from tensorflow.keras import callbacks\n",
        "from tensorflow.keras.models import Sequential\n",
        "from tensorflow.keras.layers import BatchNormalization\n",
        "from tensorflow.keras.layers import Dense, Dropout, Flatten\n",
        "from tensorflow.keras.layers import Conv2D, MaxPooling2D , UpSampling2D ,Conv2DTranspose\n",
        "from tensorflow.keras import backend as K\n",
        "from tensorflow.keras.optimizers import Adam\n",
        "\n",
        "%matplotlib inline"
      ]
    },
    {
      "cell_type": "code",
      "execution_count": null,
      "metadata": {
        "id": "fmP1OIxNrzT2"
      },
      "outputs": [],
      "source": [
        "# Check GPU (skip this if GPU hardware acceleration is not chosen)\n",
        "device_name = tf.test.gpu_device_name()\n",
        "if device_name != '/device:GPU:0':\n",
        "    raise SystemError('GPU device not found')\n",
        "print('Found GPU at: {}'.format(device_name))"
      ]
    },
    {
      "cell_type": "code",
      "execution_count": null,
      "metadata": {
        "id": "izsSPM0dr0CT"
      },
      "outputs": [],
      "source": [
        "# Mount google drive\n",
        "from google.colab import drive\n",
        "drive.mount('/content/gdrive')"
      ]
    },
    {
      "cell_type": "code",
      "execution_count": null,
      "metadata": {
        "id": "5cLqZ8n95FPr"
      },
      "outputs": [],
      "source": [
        "def preprocess(img):\n",
        "  return cv2.GaussianBlur(img, (3, 3), 0)"
      ]
    },
    {
      "cell_type": "code",
      "execution_count": null,
      "metadata": {
        "id": "Mil6SR-Pyr1a"
      },
      "outputs": [],
      "source": [
        "IMAGE_SHAPE = (105, 105)\n",
        "data_path = \"/content/gdrive/MyDrive/deepfont_data_normal/fonts\"\n",
        "image_generator = tf.keras.preprocessing.image.ImageDataGenerator(\n",
        "  #rotation_range=30,\n",
        "\tzoom_range=0.2,\n",
        "\twidth_shift_range=0.1,\n",
        "\theight_shift_range=0.1,\n",
        "\t#shear_range=0.2,\n",
        "\t#horizontal_flip=True,\n",
        "  #preprocessing_function=preprocess,\n",
        "  validation_split=0.2,\n",
        "  rescale=1/255\n",
        ")\n",
        "image_train = image_generator.flow_from_directory(directory=data_path, color_mode=\"grayscale\", target_size=IMAGE_SHAPE, subset=\"training\")\n",
        "image_val = image_generator.flow_from_directory(directory=data_path, color_mode=\"grayscale\", target_size=IMAGE_SHAPE, subset=\"validation\")"
      ]
    },
    {
      "cell_type": "code",
      "execution_count": null,
      "metadata": {
        "id": "DpDdwzQguqWR"
      },
      "outputs": [],
      "source": [
        " def create_model():\n",
        "  model=Sequential()\n",
        "\n",
        "  # Cu Layers \n",
        "  model.add(Conv2D(64, kernel_size=(48, 48), activation='relu', input_shape=(105,105,1)))\n",
        "  model.add(BatchNormalization())\n",
        "  model.add(MaxPooling2D(pool_size=(2, 2)))\n",
        "\n",
        "  model.add(Conv2D(128, kernel_size=(24, 24), activation='relu'))\n",
        "  model.add(BatchNormalization())\n",
        "  model.add(MaxPooling2D(pool_size=(2, 2)))\n",
        "\n",
        "  model.add(Conv2DTranspose(128, (24,24), strides = (2,2), activation = 'relu', padding='same', kernel_initializer='uniform'))\n",
        "  model.add(UpSampling2D(size=(2, 2)))\n",
        "\n",
        "  model.add(Conv2DTranspose(64, (12,12), strides = (2,2), activation = 'relu', padding='same', kernel_initializer='uniform'))\n",
        "  model.add(UpSampling2D(size=(2, 2)))\n",
        "\n",
        "  #Cs Layers\n",
        "  model.add(Conv2D(256, kernel_size=(12, 12), activation='relu'))\n",
        "\n",
        "  model.add(Conv2D(256, kernel_size=(12, 12), activation='relu'))\n",
        "\n",
        "  model.add(Conv2D(256, kernel_size=(12, 12), activation='relu'))\n",
        "\n",
        "  model.add(Flatten())\n",
        "\n",
        "  model.add(Dense(4096, activation='relu'))\n",
        "\n",
        "  model.add(Dropout(0.5))\n",
        "\n",
        "  model.add(Dense(4096,activation='relu'))\n",
        "\n",
        "  model.add(Dropout(0.5))\n",
        "\n",
        "  model.add(Dense(2383,activation='relu'))\n",
        "\n",
        "  model.add(Dense(20, activation='softmax'))\n",
        " \n",
        "  return model"
      ]
    },
    {
      "cell_type": "code",
      "execution_count": null,
      "metadata": {
        "id": "LSUkpdoI2J-M"
      },
      "outputs": [],
      "source": [
        "batch_size = 128\n",
        "epochs = 100\n",
        "model= create_model()\n",
        "model.compile(\n",
        "    loss=tf.keras.losses.CategoricalCrossentropy(), \n",
        "    optimizer=optimizers.SGD(learning_rate=0.001, decay=1e-6, momentum=0.9, nesterov=True), \n",
        "    #optimizer=Adam(learning_rate=0.01),\n",
        "    metrics=['accuracy']\n",
        ")"
      ]
    },
    {
      "cell_type": "code",
      "execution_count": null,
      "metadata": {
        "id": "IH8DclwlLkOw"
      },
      "outputs": [],
      "source": [
        "early_stopping=callbacks.EarlyStopping(monitor='val_loss', min_delta=0, patience=20, verbose=0, mode='min')\n",
        "\n",
        "filepath=\"/content/gdrive/MyDrive/deepfont_model_normal.h5\"\n",
        "\n",
        "checkpoint = callbacks.ModelCheckpoint(filepath, monitor='val_loss', verbose=1, save_best_only=True, mode='min')\n",
        "\n",
        "callbacks_list = [early_stopping,checkpoint]"
      ]
    },
    {
      "cell_type": "code",
      "execution_count": null,
      "metadata": {
        "id": "J4nZNNfVzhZh"
      },
      "outputs": [],
      "source": [
        "model.fit(\n",
        "    image_train, shuffle=True,\n",
        "    batch_size=batch_size,\n",
        "    epochs=epochs,\n",
        "    verbose=1,\n",
        "    validation_data=image_val,\n",
        "    callbacks=callbacks_list\n",
        ")"
      ]
    },
    {
      "cell_type": "code",
      "execution_count": null,
      "metadata": {},
      "outputs": [],
      "source": [
        "# !pip uninstall numpy -y\n",
        "!pip install numpy==1.22.4"
      ]
    },
    {
      "cell_type": "code",
      "execution_count": null,
      "metadata": {},
      "outputs": [],
      "source": [
        "!pip install trdg==1.6.0"
      ]
    },
    {
      "cell_type": "code",
      "execution_count": null,
      "metadata": {},
      "outputs": [],
      "source": [
        "!pip install certifi==2020.12.5\n",
        "!pip install cycler==0.10.0\n",
        "!pip install decorator==4.4.2\n",
        "!pip install imageio==2.9.0\n",
        "!pip install kiwisolver==1.3.1\n",
        "!pip install matplotlib==3.4.1\n",
        "!pip install networkx==2.5.1\n",
        "!pip install opencv-contrib-python==4.5.1.48\n",
        "!pip install Pillow==8.2.0\n",
        "!pip install pyparsing==2.4.7\n",
        "!pip install python-dateutil==2.8.1\n",
        "!pip install PyWavelets==1.1.1\n",
        "!pip install scikit-image==0.18.1\n",
        "!pip install scipy==1.6.3\n",
        "!pip install six==1.15.0\n",
        "!pip install tifffile==2021.4.8\n",
        "!pip install torch==1.8.1\n",
        "!pip install torchvision==0.9.1\n",
        "!pip install typing-extensions==3.7.4.3\n",
        "!pip install wincertstore==0.2\n",
        "!pip install tensorflow~=2.5.0"
      ]
    },
    {
      "cell_type": "code",
      "execution_count": null,
      "metadata": {},
      "outputs": [],
      "source": [
        "!wget https://raw.githubusercontent.com/lkmidas/Font-Detection/master/data_generator.py"
      ]
    },
    {
      "cell_type": "code",
      "execution_count": null,
      "metadata": {},
      "outputs": [],
      "source": [
        "!rm data_generator.py  # 기존 잘못된 파일 삭제\n",
        "!wget https://raw.githubusercontent.com/lkmidas/Font-Detection/master/data_generator.py"
      ]
    },
    {
      "cell_type": "code",
      "execution_count": null,
      "metadata": {},
      "outputs": [],
      "source": [
        "!pip install imutils  # DeepFont_train.ipynb에서 사용하는 패키지"
      ]
    },
    {
      "cell_type": "code",
      "execution_count": null,
      "metadata": {},
      "outputs": [],
      "source": [
        "# 폰트 이미지 데이터 생성\n",
        "!python3 data_generator.py /content/gdrive/MyDrive/korean_font_data/fonts /content/gdrive/MyDrive/korean_font_data/images 100"
      ]
    }
  ],
  "metadata": {
    "accelerator": "GPU",
    "colab": {
      "collapsed_sections": [],
      "name": "DeepFont_train.ipynb",
      "provenance": []
    },
    "kernelspec": {
      "display_name": "Python 3",
      "name": "python3"
    },
    "language_info": {
      "name": "python"
    }
  },
  "nbformat": 4,
  "nbformat_minor": 0
}
